{
 "cells": [
  {
   "cell_type": "code",
   "execution_count": 36,
   "metadata": {},
   "outputs": [],
   "source": [
    "import pandas as pd\n",
    "import os\n",
    "import matplotlib.pyplot as plt\n",
    "import seaborn as sns\n",
    "from matplotlib.ticker import ScalarFormatter\n",
    "from itertools import combinations\n",
    "from collections import Counter"
   ]
  },
  {
   "cell_type": "markdown",
   "metadata": {},
   "source": [
    "#### Combine All Sales Data"
   ]
  },
  {
   "cell_type": "code",
   "execution_count": 37,
   "metadata": {},
   "outputs": [],
   "source": [
    "df = pd.read_csv(\"./Sales_Data/Sales_April_2019.csv\")\n",
    "files = [file for file in os.listdir('./Sales_Data')]\n",
    "\n",
    "year_data = pd.DataFrame()\n",
    "for file in files:\n",
    "    df = pd.read_csv(\"./Sales_Data/\" + file)\n",
    "    year_data = pd.concat([year_data,df])\n",
    "\n",
    "year_data.to_csv(\"./Sales_Data/2019_Year_Sales.csv\", index = False)"
   ]
  },
  {
   "cell_type": "markdown",
   "metadata": {},
   "source": [
    "#### Read Combined Data File"
   ]
  },
  {
   "cell_type": "code",
   "execution_count": 38,
   "metadata": {},
   "outputs": [
    {
     "data": {
      "text/html": [
       "<div>\n",
       "<style scoped>\n",
       "    .dataframe tbody tr th:only-of-type {\n",
       "        vertical-align: middle;\n",
       "    }\n",
       "\n",
       "    .dataframe tbody tr th {\n",
       "        vertical-align: top;\n",
       "    }\n",
       "\n",
       "    .dataframe thead th {\n",
       "        text-align: right;\n",
       "    }\n",
       "</style>\n",
       "<table border=\"1\" class=\"dataframe\">\n",
       "  <thead>\n",
       "    <tr style=\"text-align: right;\">\n",
       "      <th></th>\n",
       "      <th>Order ID</th>\n",
       "      <th>Product</th>\n",
       "      <th>Quantity Ordered</th>\n",
       "      <th>Price Each</th>\n",
       "      <th>Order Date</th>\n",
       "      <th>Purchase Address</th>\n",
       "    </tr>\n",
       "  </thead>\n",
       "  <tbody>\n",
       "    <tr>\n",
       "      <th>0</th>\n",
       "      <td>176558</td>\n",
       "      <td>USB-C Charging Cable</td>\n",
       "      <td>2</td>\n",
       "      <td>11.95</td>\n",
       "      <td>04/19/19 08:46</td>\n",
       "      <td>917 1st St, Dallas, TX 75001</td>\n",
       "    </tr>\n",
       "    <tr>\n",
       "      <th>1</th>\n",
       "      <td>NaN</td>\n",
       "      <td>NaN</td>\n",
       "      <td>NaN</td>\n",
       "      <td>NaN</td>\n",
       "      <td>NaN</td>\n",
       "      <td>NaN</td>\n",
       "    </tr>\n",
       "    <tr>\n",
       "      <th>2</th>\n",
       "      <td>176559</td>\n",
       "      <td>Bose SoundSport Headphones</td>\n",
       "      <td>1</td>\n",
       "      <td>99.99</td>\n",
       "      <td>04/07/19 22:30</td>\n",
       "      <td>682 Chestnut St, Boston, MA 02215</td>\n",
       "    </tr>\n",
       "    <tr>\n",
       "      <th>3</th>\n",
       "      <td>176560</td>\n",
       "      <td>Google Phone</td>\n",
       "      <td>1</td>\n",
       "      <td>600</td>\n",
       "      <td>04/12/19 14:38</td>\n",
       "      <td>669 Spruce St, Los Angeles, CA 90001</td>\n",
       "    </tr>\n",
       "    <tr>\n",
       "      <th>4</th>\n",
       "      <td>176560</td>\n",
       "      <td>Wired Headphones</td>\n",
       "      <td>1</td>\n",
       "      <td>11.99</td>\n",
       "      <td>04/12/19 14:38</td>\n",
       "      <td>669 Spruce St, Los Angeles, CA 90001</td>\n",
       "    </tr>\n",
       "  </tbody>\n",
       "</table>\n",
       "</div>"
      ],
      "text/plain": [
       "  Order ID                     Product Quantity Ordered Price Each  \\\n",
       "0   176558        USB-C Charging Cable                2      11.95   \n",
       "1      NaN                         NaN              NaN        NaN   \n",
       "2   176559  Bose SoundSport Headphones                1      99.99   \n",
       "3   176560                Google Phone                1        600   \n",
       "4   176560            Wired Headphones                1      11.99   \n",
       "\n",
       "       Order Date                      Purchase Address  \n",
       "0  04/19/19 08:46          917 1st St, Dallas, TX 75001  \n",
       "1             NaN                                   NaN  \n",
       "2  04/07/19 22:30     682 Chestnut St, Boston, MA 02215  \n",
       "3  04/12/19 14:38  669 Spruce St, Los Angeles, CA 90001  \n",
       "4  04/12/19 14:38  669 Spruce St, Los Angeles, CA 90001  "
      ]
     },
     "execution_count": 38,
     "metadata": {},
     "output_type": "execute_result"
    }
   ],
   "source": [
    "year_data = pd.read_csv(\"./Sales_Data/2019_Year_Sales.csv\")\n",
    "year_data.head()"
   ]
  },
  {
   "cell_type": "markdown",
   "metadata": {},
   "source": [
    "### Clean Data"
   ]
  },
  {
   "cell_type": "markdown",
   "metadata": {},
   "source": [
    "#### Remove Empty Rows"
   ]
  },
  {
   "cell_type": "code",
   "execution_count": 39,
   "metadata": {},
   "outputs": [
    {
     "data": {
      "text/html": [
       "<div>\n",
       "<style scoped>\n",
       "    .dataframe tbody tr th:only-of-type {\n",
       "        vertical-align: middle;\n",
       "    }\n",
       "\n",
       "    .dataframe tbody tr th {\n",
       "        vertical-align: top;\n",
       "    }\n",
       "\n",
       "    .dataframe thead th {\n",
       "        text-align: right;\n",
       "    }\n",
       "</style>\n",
       "<table border=\"1\" class=\"dataframe\">\n",
       "  <thead>\n",
       "    <tr style=\"text-align: right;\">\n",
       "      <th></th>\n",
       "      <th>Order ID</th>\n",
       "      <th>Product</th>\n",
       "      <th>Quantity Ordered</th>\n",
       "      <th>Price Each</th>\n",
       "      <th>Order Date</th>\n",
       "      <th>Purchase Address</th>\n",
       "    </tr>\n",
       "  </thead>\n",
       "  <tbody>\n",
       "    <tr>\n",
       "      <th>0</th>\n",
       "      <td>176558</td>\n",
       "      <td>USB-C Charging Cable</td>\n",
       "      <td>2</td>\n",
       "      <td>11.95</td>\n",
       "      <td>04/19/19 08:46</td>\n",
       "      <td>917 1st St, Dallas, TX 75001</td>\n",
       "    </tr>\n",
       "    <tr>\n",
       "      <th>2</th>\n",
       "      <td>176559</td>\n",
       "      <td>Bose SoundSport Headphones</td>\n",
       "      <td>1</td>\n",
       "      <td>99.99</td>\n",
       "      <td>04/07/19 22:30</td>\n",
       "      <td>682 Chestnut St, Boston, MA 02215</td>\n",
       "    </tr>\n",
       "    <tr>\n",
       "      <th>3</th>\n",
       "      <td>176560</td>\n",
       "      <td>Google Phone</td>\n",
       "      <td>1</td>\n",
       "      <td>600</td>\n",
       "      <td>04/12/19 14:38</td>\n",
       "      <td>669 Spruce St, Los Angeles, CA 90001</td>\n",
       "    </tr>\n",
       "    <tr>\n",
       "      <th>4</th>\n",
       "      <td>176560</td>\n",
       "      <td>Wired Headphones</td>\n",
       "      <td>1</td>\n",
       "      <td>11.99</td>\n",
       "      <td>04/12/19 14:38</td>\n",
       "      <td>669 Spruce St, Los Angeles, CA 90001</td>\n",
       "    </tr>\n",
       "    <tr>\n",
       "      <th>5</th>\n",
       "      <td>176561</td>\n",
       "      <td>Wired Headphones</td>\n",
       "      <td>1</td>\n",
       "      <td>11.99</td>\n",
       "      <td>04/30/19 09:27</td>\n",
       "      <td>333 8th St, Los Angeles, CA 90001</td>\n",
       "    </tr>\n",
       "  </tbody>\n",
       "</table>\n",
       "</div>"
      ],
      "text/plain": [
       "  Order ID                     Product Quantity Ordered Price Each  \\\n",
       "0   176558        USB-C Charging Cable                2      11.95   \n",
       "2   176559  Bose SoundSport Headphones                1      99.99   \n",
       "3   176560                Google Phone                1        600   \n",
       "4   176560            Wired Headphones                1      11.99   \n",
       "5   176561            Wired Headphones                1      11.99   \n",
       "\n",
       "       Order Date                      Purchase Address  \n",
       "0  04/19/19 08:46          917 1st St, Dallas, TX 75001  \n",
       "2  04/07/19 22:30     682 Chestnut St, Boston, MA 02215  \n",
       "3  04/12/19 14:38  669 Spruce St, Los Angeles, CA 90001  \n",
       "4  04/12/19 14:38  669 Spruce St, Los Angeles, CA 90001  \n",
       "5  04/30/19 09:27     333 8th St, Los Angeles, CA 90001  "
      ]
     },
     "execution_count": 39,
     "metadata": {},
     "output_type": "execute_result"
    }
   ],
   "source": [
    "year_data = year_data.dropna(how='all')\n",
    "year_data.head()"
   ]
  },
  {
   "cell_type": "markdown",
   "metadata": {},
   "source": [
    "#### Clean Non-Date Data From Order Date Column"
   ]
  },
  {
   "cell_type": "code",
   "execution_count": 40,
   "metadata": {},
   "outputs": [],
   "source": [
    "year_data = year_data[year_data['Order Date'].str[0:2]!='Or']"
   ]
  },
  {
   "cell_type": "markdown",
   "metadata": {},
   "source": [
    "#### Change Quantity Order and Price Each Column to Numeric Column Type"
   ]
  },
  {
   "cell_type": "code",
   "execution_count": 41,
   "metadata": {},
   "outputs": [],
   "source": [
    "year_data['Quantity Ordered'] = pd.to_numeric(year_data['Quantity Ordered'])\n",
    "year_data['Price Each'] = pd.to_numeric(year_data['Price Each'])"
   ]
  },
  {
   "cell_type": "markdown",
   "metadata": {},
   "source": [
    "#### Create a Month Column"
   ]
  },
  {
   "cell_type": "code",
   "execution_count": 42,
   "metadata": {},
   "outputs": [
    {
     "data": {
      "text/html": [
       "<div>\n",
       "<style scoped>\n",
       "    .dataframe tbody tr th:only-of-type {\n",
       "        vertical-align: middle;\n",
       "    }\n",
       "\n",
       "    .dataframe tbody tr th {\n",
       "        vertical-align: top;\n",
       "    }\n",
       "\n",
       "    .dataframe thead th {\n",
       "        text-align: right;\n",
       "    }\n",
       "</style>\n",
       "<table border=\"1\" class=\"dataframe\">\n",
       "  <thead>\n",
       "    <tr style=\"text-align: right;\">\n",
       "      <th></th>\n",
       "      <th>Order ID</th>\n",
       "      <th>Product</th>\n",
       "      <th>Quantity Ordered</th>\n",
       "      <th>Price Each</th>\n",
       "      <th>Order Date</th>\n",
       "      <th>Purchase Address</th>\n",
       "      <th>Month</th>\n",
       "    </tr>\n",
       "  </thead>\n",
       "  <tbody>\n",
       "    <tr>\n",
       "      <th>0</th>\n",
       "      <td>176558</td>\n",
       "      <td>USB-C Charging Cable</td>\n",
       "      <td>2</td>\n",
       "      <td>11.95</td>\n",
       "      <td>04/19/19 08:46</td>\n",
       "      <td>917 1st St, Dallas, TX 75001</td>\n",
       "      <td>4</td>\n",
       "    </tr>\n",
       "    <tr>\n",
       "      <th>2</th>\n",
       "      <td>176559</td>\n",
       "      <td>Bose SoundSport Headphones</td>\n",
       "      <td>1</td>\n",
       "      <td>99.99</td>\n",
       "      <td>04/07/19 22:30</td>\n",
       "      <td>682 Chestnut St, Boston, MA 02215</td>\n",
       "      <td>4</td>\n",
       "    </tr>\n",
       "    <tr>\n",
       "      <th>3</th>\n",
       "      <td>176560</td>\n",
       "      <td>Google Phone</td>\n",
       "      <td>1</td>\n",
       "      <td>600.00</td>\n",
       "      <td>04/12/19 14:38</td>\n",
       "      <td>669 Spruce St, Los Angeles, CA 90001</td>\n",
       "      <td>4</td>\n",
       "    </tr>\n",
       "    <tr>\n",
       "      <th>4</th>\n",
       "      <td>176560</td>\n",
       "      <td>Wired Headphones</td>\n",
       "      <td>1</td>\n",
       "      <td>11.99</td>\n",
       "      <td>04/12/19 14:38</td>\n",
       "      <td>669 Spruce St, Los Angeles, CA 90001</td>\n",
       "      <td>4</td>\n",
       "    </tr>\n",
       "    <tr>\n",
       "      <th>5</th>\n",
       "      <td>176561</td>\n",
       "      <td>Wired Headphones</td>\n",
       "      <td>1</td>\n",
       "      <td>11.99</td>\n",
       "      <td>04/30/19 09:27</td>\n",
       "      <td>333 8th St, Los Angeles, CA 90001</td>\n",
       "      <td>4</td>\n",
       "    </tr>\n",
       "  </tbody>\n",
       "</table>\n",
       "</div>"
      ],
      "text/plain": [
       "  Order ID                     Product  Quantity Ordered  Price Each  \\\n",
       "0   176558        USB-C Charging Cable                 2       11.95   \n",
       "2   176559  Bose SoundSport Headphones                 1       99.99   \n",
       "3   176560                Google Phone                 1      600.00   \n",
       "4   176560            Wired Headphones                 1       11.99   \n",
       "5   176561            Wired Headphones                 1       11.99   \n",
       "\n",
       "       Order Date                      Purchase Address  Month  \n",
       "0  04/19/19 08:46          917 1st St, Dallas, TX 75001      4  \n",
       "2  04/07/19 22:30     682 Chestnut St, Boston, MA 02215      4  \n",
       "3  04/12/19 14:38  669 Spruce St, Los Angeles, CA 90001      4  \n",
       "4  04/12/19 14:38  669 Spruce St, Los Angeles, CA 90001      4  \n",
       "5  04/30/19 09:27     333 8th St, Los Angeles, CA 90001      4  "
      ]
     },
     "execution_count": 42,
     "metadata": {},
     "output_type": "execute_result"
    }
   ],
   "source": [
    "year_data['Month']= pd.to_numeric(year_data['Order Date'].str[0:2])\n",
    "year_data.head()"
   ]
  },
  {
   "cell_type": "markdown",
   "metadata": {},
   "source": [
    "#### Add a Sales Column"
   ]
  },
  {
   "cell_type": "code",
   "execution_count": 43,
   "metadata": {},
   "outputs": [],
   "source": [
    "year_data['Sales'] = year_data['Quantity Ordered'] * year_data['Price Each']"
   ]
  },
  {
   "cell_type": "markdown",
   "metadata": {},
   "source": [
    "#### Add a City Column"
   ]
  },
  {
   "cell_type": "code",
   "execution_count": 44,
   "metadata": {},
   "outputs": [],
   "source": [
    "def get_city(address):\n",
    "    return address.split(',')[1]\n",
    "\n",
    "def get_state(address):\n",
    "    return address.split(',')[2].split(' ')[1]\n",
    "\n",
    "year_data['City'] = year_data['Purchase Address'].apply(lambda x: f\"{get_city(x)} {get_state(x)}\")"
   ]
  },
  {
   "cell_type": "markdown",
   "metadata": {},
   "source": [
    "#### Change Order Date Column to Date Time Type"
   ]
  },
  {
   "cell_type": "code",
   "execution_count": 45,
   "metadata": {},
   "outputs": [],
   "source": [
    "year_data['Order Date'] = pd.to_datetime(year_data['Order Date'], format='%m/%d/%y %H:%M')"
   ]
  },
  {
   "cell_type": "markdown",
   "metadata": {},
   "source": [
    "#### Create Hour and Minute Columns"
   ]
  },
  {
   "cell_type": "code",
   "execution_count": 46,
   "metadata": {},
   "outputs": [],
   "source": [
    "year_data['Hour'] = year_data['Order Date'].dt.hour\n",
    "year_data['Minute'] = year_data['Order Date'].dt.minute"
   ]
  },
  {
   "cell_type": "markdown",
   "metadata": {},
   "source": [
    "## Month With Best Sales"
   ]
  },
  {
   "cell_type": "markdown",
   "metadata": {},
   "source": [
    "#### Monthly Sales Sorted By Most Sales to Least"
   ]
  },
  {
   "cell_type": "code",
   "execution_count": 47,
   "metadata": {},
   "outputs": [
    {
     "data": {
      "text/html": [
       "<div>\n",
       "<style scoped>\n",
       "    .dataframe tbody tr th:only-of-type {\n",
       "        vertical-align: middle;\n",
       "    }\n",
       "\n",
       "    .dataframe tbody tr th {\n",
       "        vertical-align: top;\n",
       "    }\n",
       "\n",
       "    .dataframe thead th {\n",
       "        text-align: right;\n",
       "    }\n",
       "</style>\n",
       "<table border=\"1\" class=\"dataframe\">\n",
       "  <thead>\n",
       "    <tr style=\"text-align: right;\">\n",
       "      <th></th>\n",
       "      <th>Quantity Ordered</th>\n",
       "      <th>Price Each</th>\n",
       "      <th>Sales</th>\n",
       "      <th>Hour</th>\n",
       "      <th>Minute</th>\n",
       "    </tr>\n",
       "    <tr>\n",
       "      <th>Month</th>\n",
       "      <th></th>\n",
       "      <th></th>\n",
       "      <th></th>\n",
       "      <th></th>\n",
       "      <th></th>\n",
       "    </tr>\n",
       "  </thead>\n",
       "  <tbody>\n",
       "    <tr>\n",
       "      <th>12</th>\n",
       "      <td>309254</td>\n",
       "      <td>50472569.51</td>\n",
       "      <td>50747876.74</td>\n",
       "      <td>3959758</td>\n",
       "      <td>8063902</td>\n",
       "    </tr>\n",
       "    <tr>\n",
       "      <th>10</th>\n",
       "      <td>249733</td>\n",
       "      <td>40871103.13</td>\n",
       "      <td>41103995.68</td>\n",
       "      <td>3197150</td>\n",
       "      <td>6582807</td>\n",
       "    </tr>\n",
       "    <tr>\n",
       "      <th>4</th>\n",
       "      <td>226138</td>\n",
       "      <td>37044381.22</td>\n",
       "      <td>37297372.64</td>\n",
       "      <td>2884849</td>\n",
       "      <td>5986046</td>\n",
       "    </tr>\n",
       "    <tr>\n",
       "      <th>11</th>\n",
       "      <td>217778</td>\n",
       "      <td>34986607.48</td>\n",
       "      <td>35195635.20</td>\n",
       "      <td>2803515</td>\n",
       "      <td>5700541</td>\n",
       "    </tr>\n",
       "    <tr>\n",
       "      <th>5</th>\n",
       "      <td>205337</td>\n",
       "      <td>34486376.43</td>\n",
       "      <td>34678674.25</td>\n",
       "      <td>2626580</td>\n",
       "      <td>5366889</td>\n",
       "    </tr>\n",
       "    <tr>\n",
       "      <th>3</th>\n",
       "      <td>187055</td>\n",
       "      <td>30703286.13</td>\n",
       "      <td>30878104.18</td>\n",
       "      <td>2408659</td>\n",
       "      <td>4923149</td>\n",
       "    </tr>\n",
       "    <tr>\n",
       "      <th>7</th>\n",
       "      <td>176792</td>\n",
       "      <td>28957935.16</td>\n",
       "      <td>29125533.36</td>\n",
       "      <td>2267859</td>\n",
       "      <td>4590839</td>\n",
       "    </tr>\n",
       "    <tr>\n",
       "      <th>6</th>\n",
       "      <td>167783</td>\n",
       "      <td>28182281.71</td>\n",
       "      <td>28355824.86</td>\n",
       "      <td>2150808</td>\n",
       "      <td>4426796</td>\n",
       "    </tr>\n",
       "    <tr>\n",
       "      <th>8</th>\n",
       "      <td>147928</td>\n",
       "      <td>24533799.62</td>\n",
       "      <td>24689146.68</td>\n",
       "      <td>1895179</td>\n",
       "      <td>3892427</td>\n",
       "    </tr>\n",
       "    <tr>\n",
       "      <th>2</th>\n",
       "      <td>147939</td>\n",
       "      <td>24077731.92</td>\n",
       "      <td>24222246.62</td>\n",
       "      <td>1899359</td>\n",
       "      <td>3903735</td>\n",
       "    </tr>\n",
       "    <tr>\n",
       "      <th>9</th>\n",
       "      <td>144199</td>\n",
       "      <td>22934912.99</td>\n",
       "      <td>23073161.43</td>\n",
       "      <td>1853643</td>\n",
       "      <td>3758678</td>\n",
       "    </tr>\n",
       "    <tr>\n",
       "      <th>1</th>\n",
       "      <td>119933</td>\n",
       "      <td>19929452.18</td>\n",
       "      <td>20044824.03</td>\n",
       "      <td>1534335</td>\n",
       "      <td>3106840</td>\n",
       "    </tr>\n",
       "  </tbody>\n",
       "</table>\n",
       "</div>"
      ],
      "text/plain": [
       "       Quantity Ordered   Price Each        Sales     Hour   Minute\n",
       "Month                                                              \n",
       "12               309254  50472569.51  50747876.74  3959758  8063902\n",
       "10               249733  40871103.13  41103995.68  3197150  6582807\n",
       "4                226138  37044381.22  37297372.64  2884849  5986046\n",
       "11               217778  34986607.48  35195635.20  2803515  5700541\n",
       "5                205337  34486376.43  34678674.25  2626580  5366889\n",
       "3                187055  30703286.13  30878104.18  2408659  4923149\n",
       "7                176792  28957935.16  29125533.36  2267859  4590839\n",
       "6                167783  28182281.71  28355824.86  2150808  4426796\n",
       "8                147928  24533799.62  24689146.68  1895179  3892427\n",
       "2                147939  24077731.92  24222246.62  1899359  3903735\n",
       "9                144199  22934912.99  23073161.43  1853643  3758678\n",
       "1                119933  19929452.18  20044824.03  1534335  3106840"
      ]
     },
     "execution_count": 47,
     "metadata": {},
     "output_type": "execute_result"
    }
   ],
   "source": [
    "results = year_data.groupby('Month').sum()\n",
    "results.sort_values(by='Sales', ascending=False)"
   ]
  },
  {
   "cell_type": "markdown",
   "metadata": {},
   "source": [
    "##### We see that December has the most sales and January has the least sales"
   ]
  },
  {
   "cell_type": "code",
   "execution_count": 48,
   "metadata": {},
   "outputs": [
    {
     "data": {
      "image/png": "[encoded data removed]",
      "text/plain": [
       "<Figure size 432x288 with 1 Axes>"
      ]
     },
     "metadata": {
      "needs_background": "light"
     },
     "output_type": "display_data"
    }
   ],
   "source": [
    "month_label = ['Jan','Feb', 'Mar', 'Apr', 'May', 'Jun', 'Jul', 'Aug', 'Sept', 'Oct', 'Nov', 'Dec'] \n",
    "ax = sns.barplot(x=month_label, y=results['Sales'], hue = month_label)\n",
    "ax.yaxis.set_major_formatter(ScalarFormatter(useMathText=False)) #We want the full value of sales to be shown\n",
    "ax.ticklabel_format(style='plain', axis='y')\n",
    "plt.xlabel('Month')\n",
    "plt.xticks(month_label)\n",
    "plt.ylabel('Sales in USD ($)')\n",
    "plt.title('Monthly Sales of 2019')\n",
    "plt.show()"
   ]
  },
  {
   "cell_type": "markdown",
   "metadata": {},
   "source": [
    "## City With Most Sales"
   ]
  },
  {
   "cell_type": "markdown",
   "metadata": {},
   "source": [
    "#### Sales For Each City Sorted By Most Sales to Least"
   ]
  },
  {
   "cell_type": "code",
   "execution_count": 49,
   "metadata": {},
   "outputs": [
    {
     "data": {
      "text/html": [
       "<div>\n",
       "<style scoped>\n",
       "    .dataframe tbody tr th:only-of-type {\n",
       "        vertical-align: middle;\n",
       "    }\n",
       "\n",
       "    .dataframe tbody tr th {\n",
       "        vertical-align: top;\n",
       "    }\n",
       "\n",
       "    .dataframe thead th {\n",
       "        text-align: right;\n",
       "    }\n",
       "</style>\n",
       "<table border=\"1\" class=\"dataframe\">\n",
       "  <thead>\n",
       "    <tr style=\"text-align: right;\">\n",
       "      <th></th>\n",
       "      <th>Quantity Ordered</th>\n",
       "      <th>Price Each</th>\n",
       "      <th>Month</th>\n",
       "      <th>Sales</th>\n",
       "      <th>Hour</th>\n",
       "      <th>Minute</th>\n",
       "    </tr>\n",
       "    <tr>\n",
       "      <th>City</th>\n",
       "      <th></th>\n",
       "      <th></th>\n",
       "      <th></th>\n",
       "      <th></th>\n",
       "      <th></th>\n",
       "      <th></th>\n",
       "    </tr>\n",
       "  </thead>\n",
       "  <tbody>\n",
       "    <tr>\n",
       "      <th>San Francisco CA</th>\n",
       "      <td>552629</td>\n",
       "      <td>90326079.14</td>\n",
       "      <td>3470720</td>\n",
       "      <td>90884243.01</td>\n",
       "      <td>7075915</td>\n",
       "      <td>14514247</td>\n",
       "    </tr>\n",
       "    <tr>\n",
       "      <th>Los Angeles CA</th>\n",
       "      <td>366179</td>\n",
       "      <td>59635787.53</td>\n",
       "      <td>2291575</td>\n",
       "      <td>59978278.80</td>\n",
       "      <td>4701884</td>\n",
       "      <td>9533018</td>\n",
       "    </tr>\n",
       "    <tr>\n",
       "      <th>New York City NY</th>\n",
       "      <td>307252</td>\n",
       "      <td>50989079.13</td>\n",
       "      <td>1933151</td>\n",
       "      <td>51307491.73</td>\n",
       "      <td>3934656</td>\n",
       "      <td>8069578</td>\n",
       "    </tr>\n",
       "    <tr>\n",
       "      <th>Boston MA</th>\n",
       "      <td>247808</td>\n",
       "      <td>40011507.47</td>\n",
       "      <td>1552232</td>\n",
       "      <td>40278062.11</td>\n",
       "      <td>3170475</td>\n",
       "      <td>6494862</td>\n",
       "    </tr>\n",
       "    <tr>\n",
       "      <th>Atlanta GA</th>\n",
       "      <td>182622</td>\n",
       "      <td>30578990.20</td>\n",
       "      <td>1152734</td>\n",
       "      <td>30750484.38</td>\n",
       "      <td>2356904</td>\n",
       "      <td>4872252</td>\n",
       "    </tr>\n",
       "    <tr>\n",
       "      <th>Dallas TX</th>\n",
       "      <td>184030</td>\n",
       "      <td>30278906.02</td>\n",
       "      <td>1150820</td>\n",
       "      <td>30447729.40</td>\n",
       "      <td>2358290</td>\n",
       "      <td>4786705</td>\n",
       "    </tr>\n",
       "    <tr>\n",
       "      <th>Seattle WA</th>\n",
       "      <td>182083</td>\n",
       "      <td>30066256.11</td>\n",
       "      <td>1154351</td>\n",
       "      <td>30225310.28</td>\n",
       "      <td>2346212</td>\n",
       "      <td>4800048</td>\n",
       "    </tr>\n",
       "    <tr>\n",
       "      <th>Portland OR</th>\n",
       "      <td>124333</td>\n",
       "      <td>20466140.42</td>\n",
       "      <td>776831</td>\n",
       "      <td>20578055.74</td>\n",
       "      <td>1588631</td>\n",
       "      <td>3250863</td>\n",
       "    </tr>\n",
       "    <tr>\n",
       "      <th>Austin TX</th>\n",
       "      <td>122683</td>\n",
       "      <td>19908609.71</td>\n",
       "      <td>768119</td>\n",
       "      <td>20015399.25</td>\n",
       "      <td>1561406</td>\n",
       "      <td>3179660</td>\n",
       "    </tr>\n",
       "    <tr>\n",
       "      <th>Portland ME</th>\n",
       "      <td>30250</td>\n",
       "      <td>4919081.75</td>\n",
       "      <td>188584</td>\n",
       "      <td>4947340.97</td>\n",
       "      <td>387321</td>\n",
       "      <td>801416</td>\n",
       "    </tr>\n",
       "  </tbody>\n",
       "</table>\n",
       "</div>"
      ],
      "text/plain": [
       "                   Quantity Ordered   Price Each    Month        Sales  \\\n",
       "City                                                                     \n",
       " San Francisco CA            552629  90326079.14  3470720  90884243.01   \n",
       " Los Angeles CA              366179  59635787.53  2291575  59978278.80   \n",
       " New York City NY            307252  50989079.13  1933151  51307491.73   \n",
       " Boston MA                   247808  40011507.47  1552232  40278062.11   \n",
       " Atlanta GA                  182622  30578990.20  1152734  30750484.38   \n",
       " Dallas TX                   184030  30278906.02  1150820  30447729.40   \n",
       " Seattle WA                  182083  30066256.11  1154351  30225310.28   \n",
       " Portland OR                 124333  20466140.42   776831  20578055.74   \n",
       " Austin TX                   122683  19908609.71   768119  20015399.25   \n",
       " Portland ME                  30250   4919081.75   188584   4947340.97   \n",
       "\n",
       "                      Hour    Minute  \n",
       "City                                  \n",
       " San Francisco CA  7075915  14514247  \n",
       " Los Angeles CA    4701884   9533018  \n",
       " New York City NY  3934656   8069578  \n",
       " Boston MA         3170475   6494862  \n",
       " Atlanta GA        2356904   4872252  \n",
       " Dallas TX         2358290   4786705  \n",
       " Seattle WA        2346212   4800048  \n",
       " Portland OR       1588631   3250863  \n",
       " Austin TX         1561406   3179660  \n",
       " Portland ME        387321    801416  "
      ]
     },
     "execution_count": 49,
     "metadata": {},
     "output_type": "execute_result"
    }
   ],
   "source": [
    "results = year_data.groupby(['City']).sum()\n",
    "results.sort_values(by='Sales', ascending=False)"
   ]
  },
  {
   "cell_type": "markdown",
   "metadata": {},
   "source": [
    "##### We see that San Francisco CA has the most sales and Portland ME has the least sales"
   ]
  },
  {
   "cell_type": "code",
   "execution_count": 50,
   "metadata": {},
   "outputs": [
    {
     "data": {
      "image/png": "[encoded data removed]",
      "text/plain": [
       "<Figure size 432x288 with 1 Axes>"
      ]
     },
     "metadata": {
      "needs_background": "light"
     },
     "output_type": "display_data"
    }
   ],
   "source": [
    "city_label = [city for city, df in year_data.groupby('City')] #Keep the order of cities as the order in the groupby when making axis\n",
    "ax = sns.barplot(x=city_label, y=results['Sales'], hue = city_label)\n",
    "ax.yaxis.set_major_formatter(ScalarFormatter(useMathText=False)) #We want the full value of sales to be shown\n",
    "ax.ticklabel_format(style='plain', axis='y')\n",
    "plt.xticks(rotation=70)\n",
    "plt.xlabel('City')\n",
    "plt.xticks(city_label)\n",
    "plt.ylabel('Sales in USD ($)')\n",
    "plt.title('City Sales of 2019')\n",
    "plt.show()"
   ]
  },
  {
   "cell_type": "markdown",
   "metadata": {},
   "source": [
    "What Time Should Advertisements Be Shown To Maximize the Likelihood of Customer's Buying Products?"
   ]
  },
  {
   "cell_type": "code",
   "execution_count": 51,
   "metadata": {},
   "outputs": [
    {
     "data": {
      "image/png": "[encoded data removed]",
      "text/plain": [
       "<Figure size 432x288 with 1 Axes>"
      ]
     },
     "metadata": {
      "needs_background": "light"
     },
     "output_type": "display_data"
    }
   ],
   "source": [
    "hours = [hour for hour, df in year_data.groupby(['Hour'])]\n",
    "hour_data = year_data.groupby(['City','Hour']).count().reset_index()\n",
    "\n",
    "sns.lineplot(x='Hour', y='Product',data = hour_data, hue='City')\n",
    "\n",
    "plt.xlabel('Hour')\n",
    "plt.xticks(hours)\n",
    "plt.ylabel('Number of Orders')\n",
    "plt.title('Orders By Time For Each City')\n",
    "plt.legend(bbox_to_anchor=(1.05, 1), loc='upper left')\n",
    "plt.grid()\n",
    "plt.show()"
   ]
  },
  {
   "cell_type": "code",
   "execution_count": 52,
   "metadata": {},
   "outputs": [
    {
     "data": {
      "image/png": "[encoded data removed]",
      "text/plain": [
       "<Figure size 432x288 with 1 Axes>"
      ]
     },
     "metadata": {
      "needs_background": "light"
     },
     "output_type": "display_data"
    }
   ],
   "source": [
    "#hours = [hour for hour, df in year_data.groupby(['Hour'])]\n",
    "#hour_data = year_data.groupby('Hour').count().reset_index()\n",
    "\n",
    "plt.plot(hours, year_data.groupby(['Hour']).count())\n",
    "\n",
    "plt.xlabel('Hour')\n",
    "plt.xticks(hours)\n",
    "plt.ylabel('Number of Orders')\n",
    "plt.title('Orders By Time')\n",
    "plt.grid()\n",
    "plt.show()"
   ]
  },
  {
   "cell_type": "markdown",
   "metadata": {},
   "source": [
    "##### Based on the chart's peak time for orders, I would recommend advertising at around 11 am or 7 pm for maximal effect."
   ]
  },
  {
   "cell_type": "markdown",
   "metadata": {},
   "source": [
    "### Products That Are Most Often Sold Together"
   ]
  },
  {
   "cell_type": "code",
   "execution_count": 62,
   "metadata": {},
   "outputs": [],
   "source": [
    "df = year_data[year_data['Order ID'].duplicated(keep=False)] #We want orders where more than one type of item was bought\n",
    "df['Grouped'] = df.groupby('Order ID')['Product'].transform(lambda x:','.join(set(x)))\n",
    "df = df[['Order ID', 'Grouped']].drop_duplicates() #We want independent purchases not the same orders & items"
   ]
  },
  {
   "cell_type": "code",
   "execution_count": 65,
   "metadata": {},
   "outputs": [
    {
     "name": "stdout",
     "output_type": "stream",
     "text": [
      "Products Most Sold Together In Order\n",
      "('Lightning Charging Cable', 'iPhone') 1010 orders\n",
      "('Google Phone', 'USB-C Charging Cable') 997 orders\n",
      "('Wired Headphones', 'iPhone') 462 orders\n",
      "('Wired Headphones', 'Google Phone') 422 orders\n",
      "('Apple Airpods Headphones', 'iPhone') 373 orders\n",
      "('USB-C Charging Cable', 'Vareebadd Phone') 368 orders\n",
      "('Bose SoundSport Headphones', 'Google Phone') 228 orders\n",
      "('Wired Headphones', 'USB-C Charging Cable') 203 orders\n",
      "('Wired Headphones', 'Vareebadd Phone') 149 orders\n",
      "('Lightning Charging Cable', 'Wired Headphones') 128 orders\n"
     ]
    }
   ],
   "source": [
    "count = Counter()\n",
    "combo = 2 #number of items sold together, can change to display higher combos\n",
    "for row in df['Grouped']:\n",
    "    row_items = row.split(',')\n",
    "    count.update(Counter(combinations(row_items,combo)))\n",
    "\n",
    "print(\"Products Most Sold Together In Order\")\n",
    "for key, value in count.most_common(10):\n",
    "    print(key, value, \"orders\")"
   ]
  },
  {
   "cell_type": "markdown",
   "metadata": {},
   "source": [
    "##### So the products most sold together are the Lightning Charging Cable and the iPhone at 1010 orders. I would recommend looking into combining these top 10 combinations of items together for promotions."
   ]
  },
  {
   "cell_type": "markdown",
   "metadata": {},
   "source": [
    "#### The Most Sold Product"
   ]
  },
  {
   "cell_type": "code",
   "execution_count": 81,
   "metadata": {},
   "outputs": [
    {
     "data": {
      "image/png": "[encoded data removed]",
      "text/plain": [
       "<Figure size 432x288 with 2 Axes>"
      ]
     },
     "metadata": {
      "needs_background": "light"
     },
     "output_type": "display_data"
    }
   ],
   "source": [
    "product_group = year_data.groupby('Product')\n",
    "num_ordered = product_group.sum()['Quantity Ordered']\n",
    "products = [product for product, df in product_group]\n",
    "ax = sns.barplot(x=products, y=num_ordered, hue = products)\n",
    "ax.yaxis.set_major_formatter(ScalarFormatter(useMathText=False)) #We want the full value of sales to be shown\n",
    "ax.ticklabel_format(style='plain', axis='y')\n",
    "plt.xticks(rotation=90)\n",
    "plt.xlabel('Product Name')\n",
    "plt.xticks(products)\n",
    "plt.ylabel('Quantity Ordered')\n",
    "plt.title('Products Sold in 2019')\n",
    "ax2 = ax.twinx()\n",
    "prices = year_data.groupby('Product').mean()['Price Each']\n",
    "ax2.plot(products, prices, color='b', marker='o', label='Mean Price')  # Adjust color and marker as needed\n",
    "ax2.set_ylabel('Mean Price')\n",
    "ax2.tick_params(axis='y', labelcolor='b')\n",
    "\n",
    "plt.show()"
   ]
  },
  {
   "cell_type": "markdown",
   "metadata": {},
   "source": [
    "##### So 4-Pack AA and AAA Batteries and the Lightning Charging Cable are the most sold products in 2019. However they have a low mean price possibly impacting consumers to be more lenient to buy. While other more expensive products such as the LG Dryer are more expensive and have a overall smaller quantity ordered. "
   ]
  }
 ],
 "metadata": {
  "kernelspec": {
   "display_name": "Python 3",
   "language": "python",
   "name": "python3"
  },
  "language_info": {
   "codemirror_mode": {
    "name": "ipython",
    "version": 3
   },
   "file_extension": ".py",
   "mimetype": "text/x-python",
   "name": "python",
   "nbconvert_exporter": "python",
   "pygments_lexer": "ipython3",
   "version": "3.9.7"
  }
 },
 "nbformat": 4,
 "nbformat_minor": 2
}
